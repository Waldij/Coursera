{
 "cells": [
  {
   "cell_type": "code",
   "execution_count": 9,
   "metadata": {},
   "outputs": [],
   "source": [
    "class Descriptor():\n",
    "    \n",
    "    def __get__(self, obj, obj_type):\n",
    "        print('get')\n",
    "        \n",
    "    def __set__(self, obj, value):\n",
    "        print('set')\n",
    "        \n",
    "    def __delete__(self, obj):\n",
    "        print('delete')"
   ]
  },
  {
   "cell_type": "code",
   "execution_count": 10,
   "metadata": {},
   "outputs": [],
   "source": [
    "class Class():\n",
    "    attr = Descriptor()"
   ]
  },
  {
   "cell_type": "code",
   "execution_count": 11,
   "metadata": {},
   "outputs": [],
   "source": [
    "instance = Class()"
   ]
  },
  {
   "cell_type": "code",
   "execution_count": 12,
   "metadata": {},
   "outputs": [
    {
     "name": "stdout",
     "output_type": "stream",
     "text": [
      "get\n"
     ]
    }
   ],
   "source": [
    "instance.attr"
   ]
  },
  {
   "cell_type": "code",
   "execution_count": 13,
   "metadata": {},
   "outputs": [
    {
     "name": "stdout",
     "output_type": "stream",
     "text": [
      "set\n"
     ]
    }
   ],
   "source": [
    "instance.attr = 10"
   ]
  },
  {
   "cell_type": "code",
   "execution_count": 15,
   "metadata": {},
   "outputs": [
    {
     "name": "stdout",
     "output_type": "stream",
     "text": [
      "delete\n"
     ]
    }
   ],
   "source": [
    "del instance.attr"
   ]
  },
  {
   "cell_type": "code",
   "execution_count": 19,
   "metadata": {},
   "outputs": [],
   "source": [
    "class Value():\n",
    "    \n",
    "    def __init__(self):\n",
    "        self.value = None\n",
    "        \n",
    "    @staticmethod    \n",
    "    def _prepare_value(value):\n",
    "        return value * 10\n",
    "    \n",
    "    def __get__(self, obj, obj_type):\n",
    "        return self.value\n",
    "    \n",
    "    def __set__(self, obj, value):\n",
    "        self.value = self._prepare_value(value)"
   ]
  },
  {
   "cell_type": "code",
   "execution_count": 20,
   "metadata": {},
   "outputs": [],
   "source": [
    "class Class():\n",
    "    attr = Value()"
   ]
  },
  {
   "cell_type": "code",
   "execution_count": 23,
   "metadata": {},
   "outputs": [
    {
     "name": "stdout",
     "output_type": "stream",
     "text": [
      "100\n"
     ]
    }
   ],
   "source": [
    "instance = Class()\n",
    "instance.attr = 10\n",
    "print(instance.attr)"
   ]
  },
  {
   "cell_type": "code",
   "execution_count": null,
   "metadata": {},
   "outputs": [],
   "source": []
  }
 ],
 "metadata": {
  "kernelspec": {
   "display_name": "Python 3",
   "language": "python",
   "name": "python3"
  },
  "language_info": {
   "codemirror_mode": {
    "name": "ipython",
    "version": 3
   },
   "file_extension": ".py",
   "mimetype": "text/x-python",
   "name": "python",
   "nbconvert_exporter": "python",
   "pygments_lexer": "ipython3",
   "version": "3.8.5"
  }
 },
 "nbformat": 4,
 "nbformat_minor": 4
}
