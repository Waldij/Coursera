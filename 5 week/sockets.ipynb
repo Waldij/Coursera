{
 "cells": [
  {
   "cell_type": "code",
   "execution_count": null,
   "metadata": {},
   "outputs": [],
   "source": [
    "# создание сокета, сервер\n",
    "import socket\n",
    "\n",
    "sock=socket.socket(socket.AF_INET, socket.SOCK_STREAM)\n",
    "sock.bind((\"127.0.0.1\", 10001))   # max port 65535\n",
    "sock.listen(socket.SOMAXCONN)\n",
    "\n",
    "conn, addr = sock.accept()\n",
    "while True:\n",
    "    data = conn.recv(1024)\n",
    "    if not data:\n",
    "        break\n",
    "    # process data\n",
    "    print(data.decode(\"utf8\"))\n",
    "\n",
    "conn.close()\n",
    "sock.close()"
   ]
  },
  {
   "cell_type": "code",
   "execution_count": null,
   "metadata": {},
   "outputs": [],
   "source": [
    "# создание сокета, клиент\n",
    "\n",
    "import socket\n",
    "\n",
    "sock = socket.socket()\n",
    "sock.connect((\"127.0.0.1\", 10001))\n",
    "sock.sendall(\"ping\".encode(\"utf8\"))\n",
    "sock.close()\n",
    "\n",
    "# более короткая запись\n",
    "\n",
    "sock = socket.create_connection((\"127.0.0.1\", 10001))\n",
    "sock.sendall(\"ping\".encode(\"utf8\"))\n",
    "sock.close()"
   ]
  },
  {
   "cell_type": "code",
   "execution_count": null,
   "metadata": {},
   "outputs": [],
   "source": [
    "# создание сокета, контекстный менеджер\n",
    "# сервер\n",
    "import socket\n",
    "\n",
    "with socket.socket() as sock:\n",
    "    sock.bind((\"\", 10001))\n",
    "    sock.listen()\n",
    "    \n",
    "    while True:\n",
    "        conn, addr = sock.accept()\n",
    "        with conn:\n",
    "            while True:\n",
    "                data = conn.recv(1024)\n",
    "                if not data:\n",
    "                    break\n",
    "                print(data.decode(\"utf8\"))\n",
    "\n",
    "# клиент\n",
    "import socket\n",
    "\n",
    "with socket.create_connection((\"127.0.0.1\", 10001)) as sock:\n",
    "    sock.sendall(\"ping\".encode(\"utf8\"))   "
   ]
  },
  {
   "cell_type": "code",
   "execution_count": null,
   "metadata": {},
   "outputs": [],
   "source": [
    "# создание сокета, таймауты и обработка ошибок\n",
    "# сервер\n",
    "import socket\n",
    "\n",
    "with socket.socket() as sock:\n",
    "    sock.bind((\"\", 10001))\n",
    "    sock.listen()\n",
    "    while True:\n",
    "        conn, addr = sock.accept()\n",
    "        conn.settimeout(5)  # timeout := None|0|gt 0 \n",
    "        with conn:\n",
    "            while True:\n",
    "                try:\n",
    "                    data = conn.recv(1024)\n",
    "                except socket.timeout:\n",
    "                    print(\"close connection by timeout\")\n",
    "                    break\n",
    "                \n",
    "                if not data:\n",
    "                    break\n",
    "                print(data.decode(\"utf8\"))"
   ]
  },
  {
   "cell_type": "code",
   "execution_count": null,
   "metadata": {},
   "outputs": [],
   "source": [
    "# клиент\n",
    "import socket\n",
    "\n",
    "with socket.create_connection((\"127.0.0.1\", 10001), 5) as sock:\n",
    "    # set socket read timeout\n",
    "    sock.settimeout(2)\n",
    "    try:\n",
    "        sock.sendall(\"ping\".encode(\"utf8\"))\n",
    "    except socket.timeout:\n",
    "        print(\"send data timeout\")\n",
    "    except socket.error as ex:\n",
    "        print(\"send data error:\", ex)"
   ]
  },
  {
   "cell_type": "code",
   "execution_count": null,
   "metadata": {},
   "outputs": [],
   "source": [
    "# обработка нескольких соединений одновременно\n",
    "import socket\n",
    "\n",
    "with socket.socket() as sock:\n",
    "    sock.bind((\"\", 10001))\n",
    "    sock.listen()\n",
    "    while True:\n",
    "        conn, addr = sock.accept()\n",
    "        print(\"connected client:\", addr)\n",
    "        # процесс или поток для обработки соединения\n",
    "        with conn:\n",
    "            while True:\n",
    "                data = conn.recv(1024)\n",
    "                if not data:\n",
    "                    break\n",
    "                print(data.decode(\"utf8\"))"
   ]
  },
  {
   "cell_type": "code",
   "execution_count": null,
   "metadata": {},
   "outputs": [],
   "source": [
    "# обработка нескольких соединений одновременно, потоки\n",
    "\n",
    "import socket\n",
    "import threading\n",
    "\n",
    "def process_request(conn, addr):\n",
    "    print(\"connected client:\", addr)\n",
    "    with conn:\n",
    "        while True:\n",
    "            data = conn.recv(1024)\n",
    "            if not data:\n",
    "                break\n",
    "            print(data.decode(\"utf8\"))\n",
    "\n",
    "with socket.socket() as sock:\n",
    "    sock.bind((\"\", 10001))\n",
    "    sock.listen()\n",
    "    while True:\n",
    "        conn, addr = sock.accept()\n",
    "        th = threading.Thread(target=process_request, args=(conn, addr))\n",
    "        th.start()"
   ]
  }
 ],
 "metadata": {
  "kernelspec": {
   "display_name": "Python 3",
   "language": "python",
   "name": "python3"
  },
  "language_info": {
   "codemirror_mode": {
    "name": "ipython",
    "version": 3
   },
   "file_extension": ".py",
   "mimetype": "text/x-python",
   "name": "python",
   "nbconvert_exporter": "python",
   "pygments_lexer": "ipython3",
   "version": "3.8.5"
  }
 },
 "nbformat": 4,
 "nbformat_minor": 4
}
