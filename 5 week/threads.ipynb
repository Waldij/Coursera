{
 "cells": [
  {
   "cell_type": "code",
   "execution_count": 1,
   "metadata": {},
   "outputs": [
    {
     "name": "stdout",
     "output_type": "stream",
     "text": [
      "hello Bob\n"
     ]
    }
   ],
   "source": [
    "# Создание потока\n",
    "\n",
    "from threading import Thread\n",
    "\n",
    "def f(name):\n",
    "    print(\"hello\", name)\n",
    "\n",
    "th = Thread(target=f, args=(\"Bob\",))\n",
    "th.start()\n",
    "th.join()\n"
   ]
  },
  {
   "cell_type": "code",
   "execution_count": 2,
   "metadata": {},
   "outputs": [
    {
     "name": "stdout",
     "output_type": "stream",
     "text": [
      "hello Mike\n"
     ]
    }
   ],
   "source": [
    "# Создание потока\n",
    "\n",
    "from threading import Thread\n",
    "\n",
    "class PrintThread(Thread):\n",
    "    def __init__(self, name):\n",
    "        super().__init__()\n",
    "        self.name = name\n",
    "\n",
    "    def run(self):\n",
    "        print(\"hello\", self.name)\n",
    "\n",
    "th = PrintThread(\"Mike\")\n",
    "th.start()\n",
    "th.join()"
   ]
  },
  {
   "cell_type": "code",
   "execution_count": 9,
   "metadata": {},
   "outputs": [
    {
     "name": "stdout",
     "output_type": "stream",
     "text": [
      "9\n",
      "4\n",
      "0\n",
      "16\n",
      "25\n",
      "1\n",
      "36\n",
      "49\n",
      "64\n",
      "81\n"
     ]
    }
   ],
   "source": [
    "# Пул потоков, concurrent.futures.Future\n",
    "\n",
    "from concurrent.futures import ThreadPoolExecutor, as_completed\n",
    "\n",
    "def f(a):\n",
    "    return a * a\n",
    "\n",
    "# .shutdown() in exit\n",
    "with ThreadPoolExecutor(max_workers=3) as pool:\n",
    "    results = [pool.submit(f, i) for i in range(10)]\n",
    "\n",
    "    for future in as_completed(results):\n",
    "        print(future.result())"
   ]
  },
  {
   "cell_type": "code",
   "execution_count": 10,
   "metadata": {},
   "outputs": [
    {
     "name": "stdout",
     "output_type": "stream",
     "text": [
      "process data:process data: 2  1 0\n",
      "process data: 1 2\n",
      "process data: 1 3\n",
      "process data: 1 4\n",
      "process data: 1 5\n",
      "process data: 11\n",
      "process data: 2 7\n",
      "process data: 2 8\n",
      "process data: 2  6\n",
      "process data: 1 10\n",
      "process data: 1 11\n",
      "9process data: 1 12\n",
      "process data: 1 13\n",
      "process data: 1 14\n",
      "process data: 1 15\n",
      "process data: \n",
      "1process data: 16\n",
      "process data: 1 18\n",
      "process data: 1 19\n",
      "process data: 1 20\n",
      "process data: 1 21\n",
      "process data: 1 22\n",
      "process data: 1 23\n",
      "process data: 1 24\n",
      "process data: 1 25\n",
      "process data: 1 26\n",
      " 2 17\n",
      "process data: 2 27\n",
      "process data: 2 28\n",
      "process data: 2process data: 29\n",
      "process data: 2 31\n",
      "process data: 2 32\n",
      "process data: 2 33\n",
      "process data: 2 34\n",
      " 1 30\n",
      "process data: 1 35\n",
      "process data: 1 36\n",
      "process data: 1 37\n",
      "process data: 1 38\n",
      "process data: 1 39\n",
      "process data:process data: 1  2 40\n",
      "process data: 2 42\n",
      "process data: 2 43\n",
      "process data: 2 44\n",
      "process data: 2 45\n",
      "process data: 2 46\n",
      "process data: 2 47\n",
      "process data: 2 48\n",
      "process data: 2 49\n",
      "41\n"
     ]
    }
   ],
   "source": [
    "# Очереди, модуль queue\n",
    "from queue import Queue\n",
    "from threading import Thread\n",
    "\n",
    "def worker(q, n):\n",
    "    while True:\n",
    "        item = q.get()\n",
    "        if item is None:\n",
    "            break\n",
    "        print(\"process data:\", n, item)\n",
    "\n",
    "q = Queue(5)\n",
    "th1 = Thread(target=worker, args=(q, 1))\n",
    "th2 = Thread(target=worker, args=(q, 2))\n",
    "th1.start(); th2.start()\n",
    "\n",
    "for i in range(50):\n",
    "    q.put(i)\n",
    "\n",
    "q.put(None); q.put(None)\n",
    "th1.join(); th2.join()"
   ]
  },
  {
   "cell_type": "code",
   "execution_count": null,
   "metadata": {},
   "outputs": [],
   "source": []
  }
 ],
 "metadata": {
  "kernelspec": {
   "display_name": "Python 3",
   "language": "python",
   "name": "python3"
  },
  "language_info": {
   "codemirror_mode": {
    "name": "ipython",
    "version": 3
   },
   "file_extension": ".py",
   "mimetype": "text/x-python",
   "name": "python",
   "nbconvert_exporter": "python",
   "pygments_lexer": "ipython3",
   "version": "3.8.5"
  }
 },
 "nbformat": 4,
 "nbformat_minor": 4
}
