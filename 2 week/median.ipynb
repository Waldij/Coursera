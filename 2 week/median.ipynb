{
 "cells": [
  {
   "cell_type": "code",
   "execution_count": 2,
   "metadata": {},
   "outputs": [
    {
     "name": "stdout",
     "output_type": "stream",
     "text": [
      "[4, 1, 18, 20, 30, 8, 18, 9, 16, 16, 20, 24, 13, 25, 5]\n"
     ]
    }
   ],
   "source": [
    "import random\n",
    "\n",
    "numbers = []\n",
    "numbers_size = random.randint(10,20)\n",
    "\n",
    "for _ in range(numbers_size):\n",
    "    numbers.append(random.randint(1,30))\n",
    "\n",
    "print (numbers)"
   ]
  },
  {
   "cell_type": "code",
   "execution_count": 3,
   "metadata": {},
   "outputs": [
    {
     "name": "stdout",
     "output_type": "stream",
     "text": [
      "[1, 4, 5, 8, 9, 13, 16, 16, 18, 18, 20, 20, 24, 25, 30]\n"
     ]
    }
   ],
   "source": [
    "numbers.sort()\n",
    "print (numbers)"
   ]
  },
  {
   "cell_type": "code",
   "execution_count": 4,
   "metadata": {},
   "outputs": [
    {
     "name": "stdout",
     "output_type": "stream",
     "text": [
      "16\n"
     ]
    }
   ],
   "source": [
    "half_size = len(numbers) // 2\n",
    "median = None\n",
    "\n",
    "if (len(numbers) % 2) == 1:\n",
    "    median = numbers[half_size]\n",
    "else:\n",
    "    median = (numbers[half_size - 1] + numbers[half_size + 1]) / 2\n",
    "    \n",
    "print (median)"
   ]
  },
  {
   "cell_type": "code",
   "execution_count": null,
   "metadata": {},
   "outputs": [],
   "source": [
    "import"
   ]
  }
 ],
 "metadata": {
  "kernelspec": {
   "display_name": "Python 3",
   "language": "python",
   "name": "python3"
  },
  "language_info": {
   "codemirror_mode": {
    "name": "ipython",
    "version": 3
   },
   "file_extension": ".py",
   "mimetype": "text/x-python",
   "name": "python",
   "nbconvert_exporter": "python",
   "pygments_lexer": "ipython3",
   "version": "3.8.5"
  }
 },
 "nbformat": 4,
 "nbformat_minor": 4
}
